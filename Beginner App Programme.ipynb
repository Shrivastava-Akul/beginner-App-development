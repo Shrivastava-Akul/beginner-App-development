{
 "cells": [
  {
   "cell_type": "code",
   "execution_count": 1,
   "id": "e4efff0e",
   "metadata": {},
   "outputs": [
    {
     "ename": "ModuleNotFoundError",
     "evalue": "No module named 'kivy'",
     "output_type": "error",
     "traceback": [
      "\u001b[1;31m---------------------------------------------------------------------------\u001b[0m",
      "\u001b[1;31mModuleNotFoundError\u001b[0m                       Traceback (most recent call last)",
      "Cell \u001b[1;32mIn [1], line 3\u001b[0m\n\u001b[0;32m      1\u001b[0m \u001b[38;5;66;03m# Beginner App Program Originally done in PyCharm\u001b[39;00m\n\u001b[1;32m----> 3\u001b[0m \u001b[38;5;28;01mimport\u001b[39;00m \u001b[38;5;21;01mkivy\u001b[39;00m\n\u001b[0;32m      4\u001b[0m \u001b[38;5;28;01mfrom\u001b[39;00m \u001b[38;5;21;01mkivy\u001b[39;00m\u001b[38;5;21;01m.\u001b[39;00m\u001b[38;5;21;01mapp\u001b[39;00m \u001b[38;5;28;01mimport\u001b[39;00m App\n\u001b[0;32m      5\u001b[0m \u001b[38;5;28;01mfrom\u001b[39;00m \u001b[38;5;21;01mkivy\u001b[39;00m\u001b[38;5;21;01m.\u001b[39;00m\u001b[38;5;21;01muix\u001b[39;00m\u001b[38;5;21;01m.\u001b[39;00m\u001b[38;5;21;01mgridlayout\u001b[39;00m \u001b[38;5;28;01mimport\u001b[39;00m GridLayout\n",
      "\u001b[1;31mModuleNotFoundError\u001b[0m: No module named 'kivy'"
     ]
    }
   ],
   "source": [
    "# Beginner App Program Originally done in PyCharm\n",
    "\n",
    "import kivy\n",
    "from kivy.app import App\n",
    "from kivy.uix.gridlayout import GridLayout\n",
    "from kivy.uix.label import Label\n",
    "from kivy.uix.textinput import TextInput\n",
    "from kivy.uix.button import Button\n",
    "\n",
    "\n",
    "class childApp(GridLayout):  # we have to run this child class in our parent class\n",
    "    def __init__(self, **kwargs):  # **kwargs to let me set unlimited arguments\n",
    "        super(childApp, self).__init__()  # gives access to methods and properties of a parent or sibling class\n",
    "        self.cols = 2  # no.of\n",
    "        self.add_widget(Label(text=\"Student Name: \"))  # small parts on the application allowing for user input\n",
    "        self.s_name = TextInput()\n",
    "        self.add_widget(self.s_name)\n",
    "\n",
    "        self.add_widget(Label(text=\"Student Marks: \"))  # small parts on the application allowing for user input\n",
    "        self.s_marks = TextInput()\n",
    "        self.add_widget(self.s_marks)\n",
    "\n",
    "        self.add_widget(Label(text=\"Student Gender: \"))  # small parts on the application allowing for user input\n",
    "        self.s_gender = TextInput()\n",
    "        self.add_widget(self.s_gender)\n",
    "\n",
    "        self.press = Button(text=\"Click me\")\n",
    "        self.press.bind(on_press=self.click_me)  # what is bind\n",
    "        self.add_widget(self.press)\n",
    "\n",
    "    def click_me(self, instance):\n",
    "        print(\"Name of Student is \" + self.s_name.text)\n",
    "        print(\"Marks of Student is \" + self.s_marks.text)\n",
    "        print(\"Gender of Student is \" + self.s_gender.text)\n",
    "        print(\"\")\n",
    "\n",
    "\n",
    "class parentApp(App):\n",
    "    def build(self):  # wtf is build. Initializes the application; it will be called only once.\n",
    "        return childApp()\n",
    "\n",
    "\n",
    "if __name__ == \"__main__\":\n",
    "    parentApp().run()"
   ]
  },
  {
   "cell_type": "code",
   "execution_count": null,
   "id": "8835bad9",
   "metadata": {},
   "outputs": [],
   "source": []
  }
 ],
 "metadata": {
  "kernelspec": {
   "display_name": "Python 3 (ipykernel)",
   "language": "python",
   "name": "python3"
  },
  "language_info": {
   "codemirror_mode": {
    "name": "ipython",
    "version": 3
   },
   "file_extension": ".py",
   "mimetype": "text/x-python",
   "name": "python",
   "nbconvert_exporter": "python",
   "pygments_lexer": "ipython3",
   "version": "3.9.7"
  }
 },
 "nbformat": 4,
 "nbformat_minor": 5
}
